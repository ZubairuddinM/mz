{
 "cells": [
  {
   "cell_type": "code",
   "execution_count": 1,
   "id": "bd1511e4",
   "metadata": {},
   "outputs": [],
   "source": [
    "##What are escape characters, and how do you use them?"
   ]
  },
  {
   "cell_type": "markdown",
   "id": "f546f270",
   "metadata": {},
   "source": [
    "Escape characters are special character and it is used in representing certain whitespace characters: \"\\t\" is a tab, \"\\n\" is a newline, and \"\\r\" is a carriage return. Conversely, prefixing a special character with \"\\\" turns it into an ordinary character."
   ]
  },
  {
   "cell_type": "code",
   "execution_count": 2,
   "id": "498ba0cc",
   "metadata": {},
   "outputs": [],
   "source": [
    "## 2. What do the escape characters n and t stand for?"
   ]
  },
  {
   "cell_type": "code",
   "execution_count": null,
   "id": "cfb63459",
   "metadata": {},
   "outputs": [],
   "source": [
    "\"\\t\" is a tab, \"\\n\" is a newline."
   ]
  },
  {
   "cell_type": "code",
   "execution_count": 3,
   "id": "b04c0b9d",
   "metadata": {},
   "outputs": [],
   "source": [
    "## 3. What is the way to include backslash characters in a string?"
   ]
  },
  {
   "cell_type": "markdown",
   "id": "6b60f42d",
   "metadata": {},
   "source": [
    "Use the syntax \"\\\\\" within the string literal to represent a single backslash."
   ]
  },
  {
   "cell_type": "code",
   "execution_count": 5,
   "id": "ffdc45ef",
   "metadata": {},
   "outputs": [],
   "source": [
    "## 4. The string \"Howl's Moving Castle\" is a correct value. \n",
    "## Why isn't the single quote character in the word Howl's not escaped a problem?\n",
    "\n",
    "As string used double quotes."
   ]
  },
  {
   "cell_type": "code",
   "execution_count": 3,
   "id": "4b55727a",
   "metadata": {},
   "outputs": [],
   "source": [
    "a=\"Howl's Moving Castle\""
   ]
  },
  {
   "cell_type": "code",
   "execution_count": 4,
   "id": "91d9d29e",
   "metadata": {},
   "outputs": [
    {
     "data": {
      "text/plain": [
       "str"
      ]
     },
     "execution_count": 4,
     "metadata": {},
     "output_type": "execute_result"
    }
   ],
   "source": [
    "type(a)"
   ]
  },
  {
   "cell_type": "code",
   "execution_count": null,
   "id": "8f31d3fb",
   "metadata": {},
   "outputs": [],
   "source": [
    "## 5. How do you write a string of newlines if you don't want to use the n character?"
   ]
  },
  {
   "cell_type": "markdown",
   "id": "6b85e9f8",
   "metadata": {},
   "source": [
    "use \\n"
   ]
  },
  {
   "cell_type": "code",
   "execution_count": 7,
   "id": "ec230b81",
   "metadata": {},
   "outputs": [],
   "source": [
    "##6. What are the values of the given expressions?"
   ]
  },
  {
   "cell_type": "code",
   "execution_count": 8,
   "id": "e557bd33",
   "metadata": {},
   "outputs": [
    {
     "data": {
      "text/plain": [
       "'e'"
      ]
     },
     "execution_count": 8,
     "metadata": {},
     "output_type": "execute_result"
    }
   ],
   "source": [
    "'Hello, world!'[1]"
   ]
  },
  {
   "cell_type": "code",
   "execution_count": 9,
   "id": "78a0ef9a",
   "metadata": {},
   "outputs": [
    {
     "data": {
      "text/plain": [
       "'Hello'"
      ]
     },
     "execution_count": 9,
     "metadata": {},
     "output_type": "execute_result"
    }
   ],
   "source": [
    "'Hello, world!'[0:5]"
   ]
  },
  {
   "cell_type": "code",
   "execution_count": 10,
   "id": "d2bb4723",
   "metadata": {},
   "outputs": [
    {
     "data": {
      "text/plain": [
       "'Hello'"
      ]
     },
     "execution_count": 10,
     "metadata": {},
     "output_type": "execute_result"
    }
   ],
   "source": [
    "'Hello, world!'[:5]"
   ]
  },
  {
   "cell_type": "code",
   "execution_count": 11,
   "id": "7e0b6f6b",
   "metadata": {},
   "outputs": [
    {
     "data": {
      "text/plain": [
       "'lo, world!'"
      ]
     },
     "execution_count": 11,
     "metadata": {},
     "output_type": "execute_result"
    }
   ],
   "source": [
    "'Hello, world!'[3:]"
   ]
  },
  {
   "cell_type": "code",
   "execution_count": 12,
   "id": "0b5c2789",
   "metadata": {},
   "outputs": [],
   "source": [
    "##7. What are the values of the following expressions?"
   ]
  },
  {
   "cell_type": "code",
   "execution_count": 13,
   "id": "a5706dac",
   "metadata": {},
   "outputs": [
    {
     "data": {
      "text/plain": [
       "'HELLO'"
      ]
     },
     "execution_count": 13,
     "metadata": {},
     "output_type": "execute_result"
    }
   ],
   "source": [
    "'Hello'.upper()"
   ]
  },
  {
   "cell_type": "code",
   "execution_count": 14,
   "id": "4ce8a303",
   "metadata": {},
   "outputs": [
    {
     "data": {
      "text/plain": [
       "True"
      ]
     },
     "execution_count": 14,
     "metadata": {},
     "output_type": "execute_result"
    }
   ],
   "source": [
    "'Hello'.upper().isupper()"
   ]
  },
  {
   "cell_type": "code",
   "execution_count": 15,
   "id": "7f74e1da",
   "metadata": {},
   "outputs": [
    {
     "data": {
      "text/plain": [
       "'hello'"
      ]
     },
     "execution_count": 15,
     "metadata": {},
     "output_type": "execute_result"
    }
   ],
   "source": [
    "'Hello'.upper().lower()"
   ]
  },
  {
   "cell_type": "code",
   "execution_count": 16,
   "id": "040fd710",
   "metadata": {},
   "outputs": [],
   "source": [
    "## 8. What are the values of the following expressions?"
   ]
  },
  {
   "cell_type": "code",
   "execution_count": 17,
   "id": "28659cee",
   "metadata": {},
   "outputs": [
    {
     "data": {
      "text/plain": [
       "['Remember,', 'remember,', 'the', 'fifth', 'of', 'July.']"
      ]
     },
     "execution_count": 17,
     "metadata": {},
     "output_type": "execute_result"
    }
   ],
   "source": [
    "'Remember, remember, the fifth of July.'.split()"
   ]
  },
  {
   "cell_type": "code",
   "execution_count": 18,
   "id": "6837b82e",
   "metadata": {},
   "outputs": [
    {
     "data": {
      "text/plain": [
       "'There-can-only-one.'"
      ]
     },
     "execution_count": 18,
     "metadata": {},
     "output_type": "execute_result"
    }
   ],
   "source": [
    "'-'.join('There can only one.'.split())"
   ]
  },
  {
   "cell_type": "code",
   "execution_count": 19,
   "id": "c85ca4db",
   "metadata": {},
   "outputs": [],
   "source": [
    "## 9. What are the methods for right-justifying, left-justifying, and centering a string?"
   ]
  },
  {
   "cell_type": "markdown",
   "id": "9cf97190",
   "metadata": {},
   "source": [
    "Method for right-justifying is rjust()\n",
    "Method for left-justifying is ljust()\n",
    "Method for centering a string is center()"
   ]
  },
  {
   "cell_type": "code",
   "execution_count": 22,
   "id": "c8a5d5a6",
   "metadata": {},
   "outputs": [],
   "source": [
    "a=\"Howl's Moving Castle\""
   ]
  },
  {
   "cell_type": "code",
   "execution_count": 34,
   "id": "fbcb42a1",
   "metadata": {},
   "outputs": [
    {
     "data": {
      "text/plain": [
       "\"               Howl's Moving Castle               \""
      ]
     },
     "execution_count": 34,
     "metadata": {},
     "output_type": "execute_result"
    }
   ],
   "source": [
    "a.center(50)"
   ]
  },
  {
   "cell_type": "code",
   "execution_count": 35,
   "id": "80908fa0",
   "metadata": {},
   "outputs": [
    {
     "data": {
      "text/plain": [
       "\"Howl's Moving Castle                              \""
      ]
     },
     "execution_count": 35,
     "metadata": {},
     "output_type": "execute_result"
    }
   ],
   "source": [
    "a.ljust(50)"
   ]
  },
  {
   "cell_type": "code",
   "execution_count": 36,
   "id": "8a59568a",
   "metadata": {},
   "outputs": [
    {
     "data": {
      "text/plain": [
       "\"                              Howl's Moving Castle\""
      ]
     },
     "execution_count": 36,
     "metadata": {},
     "output_type": "execute_result"
    }
   ],
   "source": [
    "a.rjust(50)"
   ]
  },
  {
   "cell_type": "code",
   "execution_count": 37,
   "id": "72aaeccc",
   "metadata": {},
   "outputs": [],
   "source": [
    "## 10. What is the best way to remove whitespace characters from the start or end?"
   ]
  },
  {
   "cell_type": "code",
   "execution_count": 49,
   "id": "a8408c2d",
   "metadata": {},
   "outputs": [],
   "source": [
    "b=\"                     remove whitespace        \""
   ]
  },
  {
   "cell_type": "code",
   "execution_count": 50,
   "id": "26333ec4",
   "metadata": {},
   "outputs": [
    {
     "data": {
      "text/plain": [
       "'remove whitespace'"
      ]
     },
     "execution_count": 50,
     "metadata": {},
     "output_type": "execute_result"
    }
   ],
   "source": [
    "b.strip()"
   ]
  },
  {
   "cell_type": "code",
   "execution_count": null,
   "id": "1c40bc90",
   "metadata": {},
   "outputs": [],
   "source": []
  }
 ],
 "metadata": {
  "kernelspec": {
   "display_name": "Python 3",
   "language": "python",
   "name": "python3"
  },
  "language_info": {
   "codemirror_mode": {
    "name": "ipython",
    "version": 3
   },
   "file_extension": ".py",
   "mimetype": "text/x-python",
   "name": "python",
   "nbconvert_exporter": "python",
   "pygments_lexer": "ipython3",
   "version": "3.8.8"
  }
 },
 "nbformat": 4,
 "nbformat_minor": 5
}
