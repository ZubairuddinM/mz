{
 "cells": [
  {
   "cell_type": "code",
   "execution_count": 1,
   "id": "d97b36f3",
   "metadata": {},
   "outputs": [],
   "source": [
    "## 1. To what does a relative path refer?"
   ]
  },
  {
   "cell_type": "markdown",
   "id": "311fe6aa",
   "metadata": {},
   "source": [
    "A relative filepath to the given path either from the current working directory or from the given directory."
   ]
  },
  {
   "cell_type": "code",
   "execution_count": 2,
   "id": "2ce59e24",
   "metadata": {},
   "outputs": [],
   "source": [
    "## 2. What does an absolute path start with your operating system?"
   ]
  },
  {
   "cell_type": "markdown",
   "id": "5510528c",
   "metadata": {},
   "source": [
    "'C:\\\\Users\\\\F-NetSys\\\\Assignment_1-Basic Python'"
   ]
  },
  {
   "cell_type": "code",
   "execution_count": null,
   "id": "59a5a99e",
   "metadata": {},
   "outputs": [],
   "source": [
    "## 3. What do the functions os.getcwd() and os.chdir() do?"
   ]
  },
  {
   "cell_type": "code",
   "execution_count": 3,
   "id": "fc8db470",
   "metadata": {},
   "outputs": [
    {
     "data": {
      "application/javascript": [
       "\n",
       "        if (window._pyforest_update_imports_cell) { window._pyforest_update_imports_cell('import os'); }\n",
       "    "
      ],
      "text/plain": [
       "<IPython.core.display.Javascript object>"
      ]
     },
     "metadata": {},
     "output_type": "display_data"
    },
    {
     "data": {
      "text/plain": [
       "'C:\\\\Users\\\\F-NetSys\\\\Assignment_1-Basic Python'"
      ]
     },
     "execution_count": 3,
     "metadata": {},
     "output_type": "execute_result"
    }
   ],
   "source": [
    "os.getcwd() "
   ]
  },
  {
   "cell_type": "code",
   "execution_count": null,
   "id": "e7877849",
   "metadata": {},
   "outputs": [],
   "source": [
    "os.chdir()"
   ]
  },
  {
   "cell_type": "markdown",
   "id": "a546bcac",
   "metadata": {},
   "source": [
    "Change the current working directory to the specified path."
   ]
  },
  {
   "cell_type": "code",
   "execution_count": null,
   "id": "d02c0a82",
   "metadata": {},
   "outputs": [],
   "source": [
    "## 4. What are the . and .. folders?"
   ]
  },
  {
   "cell_type": "markdown",
   "id": "a4282c8b",
   "metadata": {},
   "source": [
    "A directory or folder is a collection of files and subdirectories. Python has the os module that provides us with many useful methods to work with directories (and files as well)."
   ]
  },
  {
   "cell_type": "code",
   "execution_count": 7,
   "id": "46cc1eaf",
   "metadata": {},
   "outputs": [],
   "source": [
    "## 5. In C:\\bacon\\eggs\\spam.txt, which part is the dir name, and which part is the base name?"
   ]
  },
  {
   "cell_type": "markdown",
   "id": "3d4599b7",
   "metadata": {},
   "source": [
    "Dir name>C:\\bacon\\eggs\n",
    "Base name>spam.txt"
   ]
  },
  {
   "cell_type": "code",
   "execution_count": null,
   "id": "27f66442",
   "metadata": {},
   "outputs": [],
   "source": [
    "## 6. What are the three “mode” arguments that can be passed to the open() function?"
   ]
  },
  {
   "cell_type": "markdown",
   "id": "229e1a10",
   "metadata": {},
   "source": [
    "Read, write and modify the file."
   ]
  },
  {
   "cell_type": "code",
   "execution_count": null,
   "id": "ed137617",
   "metadata": {},
   "outputs": [],
   "source": [
    "## 7. What happens if an existing file is opened in write mode?"
   ]
  },
  {
   "cell_type": "markdown",
   "id": "7428b6c2",
   "metadata": {},
   "source": [
    "When mode “w” is specified, it creates an empty file for output operations.If a file with the same name already exists, its contents are discarded and the file is treated as a new empty file."
   ]
  },
  {
   "cell_type": "code",
   "execution_count": null,
   "id": "d6e61d72",
   "metadata": {},
   "outputs": [],
   "source": [
    "## 8. How do you tell the difference between read() and readlines()?"
   ]
  },
  {
   "cell_type": "markdown",
   "id": "e4756cb2",
   "metadata": {},
   "source": [
    "The main difference is that read() will read the whole file at once and then print out the first characters that take up as many bytes as you specify in the parenthesis while the readline() that will read and print out only the first characters that take up as many bytes as you specify in the parenthesis."
   ]
  },
  {
   "cell_type": "code",
   "execution_count": null,
   "id": "9a785d43",
   "metadata": {},
   "outputs": [],
   "source": [
    "## 9. What data structure does a shelf value resemble?"
   ]
  },
  {
   "cell_type": "markdown",
   "id": "0b3fa122",
   "metadata": {},
   "source": [
    "A shelf value resembles a dictionary value."
   ]
  }
 ],
 "metadata": {
  "kernelspec": {
   "display_name": "Python 3",
   "language": "python",
   "name": "python3"
  },
  "language_info": {
   "codemirror_mode": {
    "name": "ipython",
    "version": 3
   },
   "file_extension": ".py",
   "mimetype": "text/x-python",
   "name": "python",
   "nbconvert_exporter": "python",
   "pygments_lexer": "ipython3",
   "version": "3.8.8"
  }
 },
 "nbformat": 4,
 "nbformat_minor": 5
}
