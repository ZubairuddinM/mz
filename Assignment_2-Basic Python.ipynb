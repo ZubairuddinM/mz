{
 "cells": [
  {
   "cell_type": "code",
   "execution_count": null,
   "id": "3ed60722",
   "metadata": {},
   "outputs": [],
   "source": [
    "## 1.What are the two values of the Boolean data type? How do you write them?"
   ]
  },
  {
   "cell_type": "code",
   "execution_count": null,
   "id": "beeeb334",
   "metadata": {},
   "outputs": [],
   "source": [
    "True =1\n",
    "False=0"
   ]
  },
  {
   "cell_type": "code",
   "execution_count": null,
   "id": "e0daf81f",
   "metadata": {},
   "outputs": [],
   "source": [
    "## 2. What are the three different types of Boolean operators?"
   ]
  },
  {
   "cell_type": "code",
   "execution_count": null,
   "id": "dc7da368",
   "metadata": {},
   "outputs": [],
   "source": [
    "And\n",
    "OR\n",
    "Not"
   ]
  },
  {
   "cell_type": "code",
   "execution_count": null,
   "id": "0d444ac6",
   "metadata": {},
   "outputs": [],
   "source": [
    "## 3. Make a list of each Boolean operator's truth tables\n",
    "## (i.e. every possible combination of Boolean values for the operator and what it evaluate)."
   ]
  },
  {
   "cell_type": "code",
   "execution_count": 18,
   "id": "efa608e2",
   "metadata": {},
   "outputs": [],
   "source": [
    "AND=[\"T^T=T\",\"T^F=F\",\"F^T=F\",\"F^F=F\"]\n",
    "OR=[\"TvT=T\",\"TvF=T\",\"FvT=T\",\"FvF=F\"]\n",
    "NOT=[\"T=!F\",\"F=!T\"]"
   ]
  },
  {
   "cell_type": "code",
   "execution_count": null,
   "id": "6ff2fb86",
   "metadata": {},
   "outputs": [],
   "source": [
    "##4. What are the values of the following expressions?"
   ]
  },
  {
   "cell_type": "code",
   "execution_count": 20,
   "id": "7c839b53",
   "metadata": {},
   "outputs": [
    {
     "data": {
      "text/plain": [
       "False"
      ]
     },
     "execution_count": 20,
     "metadata": {},
     "output_type": "execute_result"
    }
   ],
   "source": [
    "(5 > 4) and (3 == 5) "
   ]
  },
  {
   "cell_type": "code",
   "execution_count": 21,
   "id": "b067f98e",
   "metadata": {},
   "outputs": [
    {
     "data": {
      "text/plain": [
       "False"
      ]
     },
     "execution_count": 21,
     "metadata": {},
     "output_type": "execute_result"
    }
   ],
   "source": [
    "not (5 > 4) "
   ]
  },
  {
   "cell_type": "code",
   "execution_count": 22,
   "id": "198a5245",
   "metadata": {},
   "outputs": [
    {
     "data": {
      "text/plain": [
       "True"
      ]
     },
     "execution_count": 22,
     "metadata": {},
     "output_type": "execute_result"
    }
   ],
   "source": [
    "(5 > 4) or (3 == 5) "
   ]
  },
  {
   "cell_type": "code",
   "execution_count": 23,
   "id": "a153a8c9",
   "metadata": {},
   "outputs": [
    {
     "data": {
      "text/plain": [
       "False"
      ]
     },
     "execution_count": 23,
     "metadata": {},
     "output_type": "execute_result"
    }
   ],
   "source": [
    "not ((5 > 4) or (3 == 5)) "
   ]
  },
  {
   "cell_type": "code",
   "execution_count": 24,
   "id": "9c4a15b4",
   "metadata": {},
   "outputs": [
    {
     "data": {
      "text/plain": [
       "False"
      ]
     },
     "execution_count": 24,
     "metadata": {},
     "output_type": "execute_result"
    }
   ],
   "source": [
    "(True and True) and (True == False) "
   ]
  },
  {
   "cell_type": "code",
   "execution_count": 25,
   "id": "7bf0da96",
   "metadata": {},
   "outputs": [
    {
     "data": {
      "text/plain": [
       "True"
      ]
     },
     "execution_count": 25,
     "metadata": {},
     "output_type": "execute_result"
    }
   ],
   "source": [
    "(not False) or (not True) "
   ]
  },
  {
   "cell_type": "code",
   "execution_count": 26,
   "id": "4cf7a13a",
   "metadata": {},
   "outputs": [],
   "source": [
    "##5. What are the six comparison operators?"
   ]
  },
  {
   "cell_type": "markdown",
   "id": "90489152",
   "metadata": {},
   "source": [
    "+ - < > / =="
   ]
  },
  {
   "cell_type": "code",
   "execution_count": 28,
   "id": "398bc24f",
   "metadata": {},
   "outputs": [],
   "source": [
    "##6. How do you tell the difference between the equal to and assignment operators?\n",
    "##Describe a condition and when you would use one."
   ]
  },
  {
   "cell_type": "code",
   "execution_count": 1,
   "id": "c2c29d29",
   "metadata": {},
   "outputs": [
    {
     "name": "stdout",
     "output_type": "stream",
     "text": [
      "Enter:10\n",
      "eggs\n"
     ]
    }
   ],
   "source": [
    "## Equal to is '=='\n",
    "## Assignment operators is '='\n",
    "spam=int(input(\"Enter:\"))\n",
    "if spam == 10:\n",
    "    print('eggs')"
   ]
  },
  {
   "cell_type": "code",
   "execution_count": 2,
   "id": "716e7e2b",
   "metadata": {},
   "outputs": [],
   "source": [
    "##7. Identify the three blocks in this code:"
   ]
  },
  {
   "cell_type": "code",
   "execution_count": 7,
   "id": "6623aef1",
   "metadata": {},
   "outputs": [
    {
     "name": "stdout",
     "output_type": "stream",
     "text": [
      "ham\n",
      "spam\n",
      "spam\n"
     ]
    }
   ],
   "source": [
    "##1st block\n",
    "spam = 0 \n",
    "##2nd block\n",
    "if spam == 10:        \n",
    "    print('eggs')\n",
    "##3rd block\n",
    "if spam > 5:    \n",
    "    print('bacon')\n",
    "else:\n",
    "    print('ham')\n",
    "    print('spam')\n",
    "    print('spam')"
   ]
  },
  {
   "cell_type": "code",
   "execution_count": 8,
   "id": "603ded36",
   "metadata": {},
   "outputs": [],
   "source": [
    "## 8. Write code that prints Hello if 1 is stored in spam, prints Howdy if 2 is stored in spam, \n",
    "## and prints Greetings! if anything else is stored in spam."
   ]
  },
  {
   "cell_type": "code",
   "execution_count": 12,
   "id": "7f50099c",
   "metadata": {},
   "outputs": [
    {
     "name": "stdout",
     "output_type": "stream",
     "text": [
      "spam2\n",
      "Howdy\n"
     ]
    }
   ],
   "source": [
    "spam=int(input(\"spam\"))\n",
    "if spam==1:\n",
    "    print(\"Hello\")\n",
    "elif spam==2:\n",
    "    print(\"Howdy\")\n",
    "else:\n",
    "    print(\"Greeting\")"
   ]
  },
  {
   "cell_type": "code",
   "execution_count": 13,
   "id": "8374bf7a",
   "metadata": {},
   "outputs": [],
   "source": [
    "## 9.If your programme is stuck in an endless loop, what keys you’ll press?"
   ]
  },
  {
   "cell_type": "code",
   "execution_count": null,
   "id": "97c85fd5",
   "metadata": {},
   "outputs": [],
   "source": [
    "Ctrl + c"
   ]
  },
  {
   "cell_type": "code",
   "execution_count": null,
   "id": "87f0e121",
   "metadata": {},
   "outputs": [],
   "source": [
    "##10. How can you tell the difference between break and continue?"
   ]
  },
  {
   "cell_type": "markdown",
   "id": "0aff2579",
   "metadata": {},
   "source": [
    "Break statement stops the loop whereas Continue statement allows you to skip part of a loop when a condition is met"
   ]
  },
  {
   "cell_type": "code",
   "execution_count": 14,
   "id": "8f6f627a",
   "metadata": {},
   "outputs": [],
   "source": [
    "## 11. In a for loop, what is the difference between range(10), range(0, 10), and range(0, 10, 1)?\n",
    "       No difference found"
   ]
  },
  {
   "cell_type": "code",
   "execution_count": 19,
   "id": "866b9199",
   "metadata": {},
   "outputs": [
    {
     "name": "stdout",
     "output_type": "stream",
     "text": [
      "0\n",
      "1\n",
      "2\n",
      "3\n",
      "4\n",
      "5\n",
      "6\n",
      "7\n",
      "8\n",
      "9\n"
     ]
    }
   ],
   "source": [
    "for i in range(10):\n",
    "    print(i)"
   ]
  },
  {
   "cell_type": "code",
   "execution_count": 20,
   "id": "397eefe5",
   "metadata": {},
   "outputs": [
    {
     "name": "stdout",
     "output_type": "stream",
     "text": [
      "0\n",
      "1\n",
      "2\n",
      "3\n",
      "4\n",
      "5\n",
      "6\n",
      "7\n",
      "8\n",
      "9\n"
     ]
    }
   ],
   "source": [
    "for i in range(0,10):\n",
    "    print(i)"
   ]
  },
  {
   "cell_type": "code",
   "execution_count": 21,
   "id": "b116a64c",
   "metadata": {},
   "outputs": [
    {
     "name": "stdout",
     "output_type": "stream",
     "text": [
      "0\n",
      "1\n",
      "2\n",
      "3\n",
      "4\n",
      "5\n",
      "6\n",
      "7\n",
      "8\n",
      "9\n"
     ]
    }
   ],
   "source": [
    "for i in range(0,10,1):\n",
    "    print(i)"
   ]
  },
  {
   "cell_type": "code",
   "execution_count": 23,
   "id": "12b2462c",
   "metadata": {},
   "outputs": [],
   "source": [
    "##12. Write a short program that prints the numbers 1 to 10 using a for loop. \n",
    "## Then write an equivalent program that prints the numbers 1 to 10 using a while loop."
   ]
  },
  {
   "cell_type": "code",
   "execution_count": 24,
   "id": "2119cd52",
   "metadata": {},
   "outputs": [
    {
     "name": "stdout",
     "output_type": "stream",
     "text": [
      "1\n",
      "2\n",
      "3\n",
      "4\n",
      "5\n",
      "6\n",
      "7\n",
      "8\n",
      "9\n",
      "10\n"
     ]
    }
   ],
   "source": [
    "for i in range(1,11):\n",
    "    print(i)"
   ]
  },
  {
   "cell_type": "code",
   "execution_count": 7,
   "id": "3c9cfd62",
   "metadata": {},
   "outputs": [
    {
     "name": "stdout",
     "output_type": "stream",
     "text": [
      "1\n",
      "2\n",
      "3\n",
      "4\n",
      "5\n",
      "6\n",
      "7\n",
      "8\n",
      "9\n",
      "10\n"
     ]
    }
   ],
   "source": [
    "a=10\n",
    "b=1\n",
    "while a>=b:\n",
    "    print(b)\n",
    "    b=1+b"
   ]
  },
  {
   "cell_type": "code",
   "execution_count": null,
   "id": "3135b5bc",
   "metadata": {},
   "outputs": [],
   "source": [
    "##13. If you had a function named bacon() inside a module named spam, \n",
    "## how would you call it after importing spam?"
   ]
  },
  {
   "cell_type": "markdown",
   "id": "0fc02d6e",
   "metadata": {},
   "source": [
    "spam.bacon()"
   ]
  },
  {
   "cell_type": "code",
   "execution_count": null,
   "id": "72fc0b9c",
   "metadata": {},
   "outputs": [],
   "source": []
  }
 ],
 "metadata": {
  "kernelspec": {
   "display_name": "Python 3",
   "language": "python",
   "name": "python3"
  },
  "language_info": {
   "codemirror_mode": {
    "name": "ipython",
    "version": 3
   },
   "file_extension": ".py",
   "mimetype": "text/x-python",
   "name": "python",
   "nbconvert_exporter": "python",
   "pygments_lexer": "ipython3",
   "version": "3.8.8"
  }
 },
 "nbformat": 4,
 "nbformat_minor": 5
}
