{
 "cells": [
  {
   "cell_type": "code",
   "execution_count": 1,
   "id": "e974a8ed",
   "metadata": {},
   "outputs": [],
   "source": [
    "#1. Why are functions advantageous to have in your programs?"
   ]
  },
  {
   "cell_type": "markdown",
   "id": "9ce17c47",
   "metadata": {},
   "source": [
    "Using functions in program is advantageous as we can reuse the same code again and again rather than rewriting the whole code in our program"
   ]
  },
  {
   "cell_type": "code",
   "execution_count": 2,
   "id": "ee45c8c6",
   "metadata": {},
   "outputs": [],
   "source": [
    "#2. When does the code in a function run: when it's specified or when it's called?\n",
    "When its called"
   ]
  },
  {
   "cell_type": "code",
   "execution_count": null,
   "id": "23c603a8",
   "metadata": {},
   "outputs": [],
   "source": [
    "# 3. What statement creates a function?\n",
    "     def creates a function"
   ]
  },
  {
   "cell_type": "code",
   "execution_count": 4,
   "id": "39c8827d",
   "metadata": {},
   "outputs": [],
   "source": [
    "#4. What is the difference between a function and a function call?"
   ]
  },
  {
   "cell_type": "markdown",
   "id": "d28d253b",
   "metadata": {},
   "source": [
    "Unless we call a function,output or outcome of that function which not execute.function is a procedure to achieve certain task."
   ]
  },
  {
   "cell_type": "code",
   "execution_count": null,
   "id": "caf58883",
   "metadata": {},
   "outputs": [],
   "source": [
    "#5. How many global scopes are there in a Python program? How many local scopes?"
   ]
  },
  {
   "cell_type": "code",
   "execution_count": null,
   "id": "35a9bc4f",
   "metadata": {},
   "outputs": [],
   "source": [
    " One global scope and many local scope until variable is found"
   ]
  },
  {
   "cell_type": "code",
   "execution_count": 5,
   "id": "957df9df",
   "metadata": {},
   "outputs": [],
   "source": [
    "#6. What happens to variables in a local scope when the function call returns?"
   ]
  },
  {
   "cell_type": "code",
   "execution_count": null,
   "id": "338c9fd8",
   "metadata": {},
   "outputs": [],
   "source": [
    "Variables in a local scope becomes irrelevant or destroyed after the function call returns"
   ]
  },
  {
   "cell_type": "code",
   "execution_count": null,
   "id": "4cf1a6f2",
   "metadata": {},
   "outputs": [],
   "source": [
    "#7.What is the concept of a return value? Is it possible to have a return value in an expression?"
   ]
  },
  {
   "cell_type": "markdown",
   "id": "7a4074f7",
   "metadata": {},
   "source": [
    "output of a function is return value,No it is not possible to have a return value in an expression"
   ]
  },
  {
   "cell_type": "code",
   "execution_count": 1,
   "id": "48570670",
   "metadata": {},
   "outputs": [],
   "source": [
    "#8. If a function does not have a return statement, \n",
    "#what is the return value of a call to that function?"
   ]
  },
  {
   "cell_type": "markdown",
   "id": "5e07e25a",
   "metadata": {},
   "source": [
    "If there is no return statement in the function code, the function ends, when the control flow reaches the end of the function body and the value None will be returned."
   ]
  },
  {
   "cell_type": "code",
   "execution_count": null,
   "id": "7e5e6aad",
   "metadata": {},
   "outputs": [],
   "source": [
    "#9. How do you make a function variable refer to the global variable?"
   ]
  },
  {
   "cell_type": "markdown",
   "id": "adfaa226",
   "metadata": {},
   "source": [
    "If you want to refer to a global variable in a function, you can use the global keyword to declare which variables are global."
   ]
  },
  {
   "cell_type": "code",
   "execution_count": null,
   "id": "0944a4df",
   "metadata": {},
   "outputs": [],
   "source": [
    "#10. What is the data type of None?"
   ]
  },
  {
   "cell_type": "code",
   "execution_count": 2,
   "id": "9592ba87",
   "metadata": {},
   "outputs": [
    {
     "data": {
      "text/plain": [
       "NoneType"
      ]
     },
     "execution_count": 2,
     "metadata": {},
     "output_type": "execute_result"
    }
   ],
   "source": [
    "type(None)"
   ]
  },
  {
   "cell_type": "code",
   "execution_count": null,
   "id": "5ba02ca1",
   "metadata": {},
   "outputs": [],
   "source": [
    "#11. What does the sentence import areallyourpetsnamederic do?"
   ]
  },
  {
   "cell_type": "markdown",
   "id": "89ec54a1",
   "metadata": {},
   "source": [
    "That import statement imports a module named areallyourpetsnamederic"
   ]
  },
  {
   "cell_type": "code",
   "execution_count": null,
   "id": "70fc3cf9",
   "metadata": {},
   "outputs": [],
   "source": [
    "#12. If you had a bacon() feature in a spam module, what would you call it after importing spam?"
   ]
  },
  {
   "cell_type": "markdown",
   "id": "9f38bcf4",
   "metadata": {},
   "source": [
    "This function can be called with spam. bacon()"
   ]
  },
  {
   "cell_type": "code",
   "execution_count": null,
   "id": "58ae7e58",
   "metadata": {},
   "outputs": [],
   "source": [
    "#13. What can you do to save a programme from crashing if it encounters an error?"
   ]
  },
  {
   "cell_type": "markdown",
   "id": "42033348",
   "metadata": {},
   "source": [
    "By using Try and Except (Exceptional handling)"
   ]
  },
  {
   "cell_type": "code",
   "execution_count": null,
   "id": "9517856e",
   "metadata": {},
   "outputs": [],
   "source": [
    "#14. What is the purpose of the try clause? What is the purpose of the except clause?"
   ]
  },
  {
   "cell_type": "markdown",
   "id": "bc23f710",
   "metadata": {},
   "source": [
    "The try block allows you to test a block of code for errors. The except block enables you to handle the error with a user-defined response."
   ]
  },
  {
   "cell_type": "code",
   "execution_count": null,
   "id": "d66fab07",
   "metadata": {},
   "outputs": [],
   "source": []
  }
 ],
 "metadata": {
  "kernelspec": {
   "display_name": "Python 3",
   "language": "python",
   "name": "python3"
  },
  "language_info": {
   "codemirror_mode": {
    "name": "ipython",
    "version": 3
   },
   "file_extension": ".py",
   "mimetype": "text/x-python",
   "name": "python",
   "nbconvert_exporter": "python",
   "pygments_lexer": "ipython3",
   "version": "3.8.8"
  }
 },
 "nbformat": 4,
 "nbformat_minor": 5
}
