{
 "cells": [
  {
   "cell_type": "code",
   "execution_count": null,
   "id": "502209f3",
   "metadata": {},
   "outputs": [],
   "source": [
    "##1.\tWrite a Python program to print \"Hello Python\"?"
   ]
  },
  {
   "cell_type": "code",
   "execution_count": 2,
   "id": "84d7a0a4",
   "metadata": {},
   "outputs": [
    {
     "name": "stdout",
     "output_type": "stream",
     "text": [
      "Hello Python\n"
     ]
    }
   ],
   "source": [
    "i=\"Hello Python\"\n",
    "print(i)"
   ]
  },
  {
   "cell_type": "code",
   "execution_count": null,
   "id": "6d8d42c7",
   "metadata": {},
   "outputs": [],
   "source": [
    "##2.\tWrite a Python program to do arithmetical operations addition and division.?"
   ]
  },
  {
   "cell_type": "code",
   "execution_count": 2,
   "id": "e3f6ef0f",
   "metadata": {},
   "outputs": [
    {
     "name": "stdout",
     "output_type": "stream",
     "text": [
      "Enter value1100\n",
      "Enter value22\n",
      "102\n",
      "50\n"
     ]
    }
   ],
   "source": [
    "a=int(input(\"Enter value1\"))\n",
    "b=int(input(\"Enter value2\"))\n",
    "c=a+b\n",
    "d=a//b\n",
    "print(c)\n",
    "print(d)"
   ]
  },
  {
   "cell_type": "code",
   "execution_count": null,
   "id": "068b901d",
   "metadata": {},
   "outputs": [],
   "source": [
    "##3.\tWrite a Python program to find the area of a triangle?=1/2b*h"
   ]
  },
  {
   "cell_type": "code",
   "execution_count": 7,
   "id": "475aac02",
   "metadata": {},
   "outputs": [
    {
     "name": "stdout",
     "output_type": "stream",
     "text": [
      "Base of a triangle:10\n",
      "Height of a triangle:10\n",
      "Area of the triangle:50\n"
     ]
    }
   ],
   "source": [
    "base=int(input(\"Base of a triangle:\"))\n",
    "height=int(input(\"Height of a triangle:\"))\n",
    "Area=(base*height)//2\n",
    "print(\"Area of the triangle:{}\".format(Area))"
   ]
  },
  {
   "cell_type": "code",
   "execution_count": null,
   "id": "c4641097",
   "metadata": {},
   "outputs": [],
   "source": [
    "##4.\tWrite a Python program to swap two variables?"
   ]
  },
  {
   "cell_type": "code",
   "execution_count": 13,
   "id": "eb2289cf",
   "metadata": {},
   "outputs": [
    {
     "name": "stdout",
     "output_type": "stream",
     "text": [
      "Enter value:a=10\n",
      "Enter value:b=5\n",
      "5 10\n"
     ]
    }
   ],
   "source": [
    "a=int(input(\"Enter value:a=\"))\n",
    "b=int(input(\"Enter value:b=\"))\n",
    "a,b=b,a\n",
    "print(a,b)"
   ]
  },
  {
   "cell_type": "code",
   "execution_count": null,
   "id": "ea9bf772",
   "metadata": {},
   "outputs": [],
   "source": [
    "##5.\tWrite a Python program to generate a random number?"
   ]
  },
  {
   "cell_type": "code",
   "execution_count": 19,
   "id": "d1f701ba",
   "metadata": {},
   "outputs": [
    {
     "name": "stdout",
     "output_type": "stream",
     "text": [
      "8\n"
     ]
    }
   ],
   "source": [
    "import random\n",
    "a=random.randint(0,10)\n",
    "print(a)"
   ]
  }
 ],
 "metadata": {
  "kernelspec": {
   "display_name": "Python 3",
   "language": "python",
   "name": "python3"
  },
  "language_info": {
   "codemirror_mode": {
    "name": "ipython",
    "version": 3
   },
   "file_extension": ".py",
   "mimetype": "text/x-python",
   "name": "python",
   "nbconvert_exporter": "python",
   "pygments_lexer": "ipython3",
   "version": "3.8.8"
  }
 },
 "nbformat": 4,
 "nbformat_minor": 5
}
