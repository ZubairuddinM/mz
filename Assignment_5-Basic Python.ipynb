{
 "cells": [
  {
   "cell_type": "code",
   "execution_count": 1,
   "id": "8a1b535f",
   "metadata": {},
   "outputs": [],
   "source": [
    "##1. What does an empty dictionary's code look like?"
   ]
  },
  {
   "cell_type": "code",
   "execution_count": 3,
   "id": "7eabd158",
   "metadata": {},
   "outputs": [],
   "source": [
    "a={}"
   ]
  },
  {
   "cell_type": "code",
   "execution_count": 4,
   "id": "f3c21f20",
   "metadata": {},
   "outputs": [
    {
     "data": {
      "text/plain": [
       "dict"
      ]
     },
     "execution_count": 4,
     "metadata": {},
     "output_type": "execute_result"
    }
   ],
   "source": [
    "type(a)"
   ]
  },
  {
   "cell_type": "code",
   "execution_count": 5,
   "id": "eeed64b3",
   "metadata": {},
   "outputs": [],
   "source": [
    "##2. What is the value of a dictionary value with the key 'foo' and the value 42?"
   ]
  },
  {
   "cell_type": "code",
   "execution_count": 7,
   "id": "b5ec80f6",
   "metadata": {},
   "outputs": [],
   "source": [
    "value={\"foo\":42}"
   ]
  },
  {
   "cell_type": "code",
   "execution_count": 11,
   "id": "7235e61e",
   "metadata": {},
   "outputs": [
    {
     "data": {
      "text/plain": [
       "dict_values([42])"
      ]
     },
     "execution_count": 11,
     "metadata": {},
     "output_type": "execute_result"
    }
   ],
   "source": [
    "value.values()"
   ]
  },
  {
   "cell_type": "code",
   "execution_count": 12,
   "id": "5ce32ecd",
   "metadata": {},
   "outputs": [],
   "source": [
    "##3. What is the most significant distinction between a dictionary and a list?"
   ]
  },
  {
   "cell_type": "markdown",
   "id": "de1c87ad",
   "metadata": {},
   "source": [
    "A list is an ordered sequence of objects, whereas dictionaries are unordered sets. However, the main difference is that items in dictionaries are accessed via keys and not via their position. Any key of the dictionary is associated (or mapped) to a value."
   ]
  },
  {
   "cell_type": "code",
   "execution_count": 13,
   "id": "e2705c4a",
   "metadata": {},
   "outputs": [],
   "source": [
    "##4. What happens if you try to access spam['foo'] if spam is {'bar': 100}?"
   ]
  },
  {
   "cell_type": "code",
   "execution_count": 15,
   "id": "6e25401f",
   "metadata": {},
   "outputs": [],
   "source": [
    "spam={'bar':100}"
   ]
  },
  {
   "cell_type": "code",
   "execution_count": 16,
   "id": "0468c795",
   "metadata": {},
   "outputs": [
    {
     "ename": "KeyError",
     "evalue": "'foo'",
     "output_type": "error",
     "traceback": [
      "\u001b[1;31m---------------------------------------------------------------------------\u001b[0m",
      "\u001b[1;31mKeyError\u001b[0m                                  Traceback (most recent call last)",
      "\u001b[1;32m<ipython-input-16-9b5a94d1de8d>\u001b[0m in \u001b[0;36m<module>\u001b[1;34m\u001b[0m\n\u001b[1;32m----> 1\u001b[1;33m \u001b[0mspam\u001b[0m\u001b[1;33m[\u001b[0m\u001b[1;34m'foo'\u001b[0m\u001b[1;33m]\u001b[0m\u001b[1;33m\u001b[0m\u001b[1;33m\u001b[0m\u001b[0m\n\u001b[0m",
      "\u001b[1;31mKeyError\u001b[0m: 'foo'"
     ]
    }
   ],
   "source": [
    "spam['foo']"
   ]
  },
  {
   "cell_type": "code",
   "execution_count": null,
   "id": "a7a5a9ed",
   "metadata": {},
   "outputs": [],
   "source": [
    "## 5. If a dictionary is stored in spam, \n",
    "## what is the difference between the expressions 'cat' in spam and 'cat' in spam.keys()?"
   ]
  },
  {
   "cell_type": "markdown",
   "id": "bcafd4c6",
   "metadata": {},
   "source": [
    "The difference between the expressions 'cat' in spam is 'cat'is value in list spam whereas 'cat' in spam.keys(),'cat' is the key to the value that will be assigned to key 'cat'."
   ]
  },
  {
   "cell_type": "code",
   "execution_count": 21,
   "id": "05761fac",
   "metadata": {},
   "outputs": [],
   "source": [
    "## 6. If a dictionary is stored in spam,\n",
    "## what is the difference between the expressions 'cat' in spam and 'cat' in spam.values()?"
   ]
  },
  {
   "cell_type": "code",
   "execution_count": 27,
   "id": "2d264509",
   "metadata": {},
   "outputs": [],
   "source": [
    "spam={'c':['cat'],'cat': 'value'}"
   ]
  },
  {
   "cell_type": "code",
   "execution_count": 35,
   "id": "4b5563f0",
   "metadata": {},
   "outputs": [
    {
     "data": {
      "text/plain": [
       "dict_values([['cat'], 'value'])"
      ]
     },
     "execution_count": 35,
     "metadata": {},
     "output_type": "execute_result"
    }
   ],
   "source": [
    "spam.values()"
   ]
  },
  {
   "cell_type": "code",
   "execution_count": 54,
   "id": "7bbcb6a8",
   "metadata": {},
   "outputs": [],
   "source": [
    "## 7. What is a shortcut for the following code?"
   ]
  },
  {
   "cell_type": "code",
   "execution_count": 55,
   "id": "b30d1f7f",
   "metadata": {},
   "outputs": [],
   "source": [
    "if 'color' not in spam:\n",
    "    spam['color'] = 'black'"
   ]
  },
  {
   "cell_type": "code",
   "execution_count": 43,
   "id": "dda00f1e",
   "metadata": {},
   "outputs": [
    {
     "data": {
      "text/plain": [
       "{'c': ['cat'], 'cat': 'value', 'color': 'black'}"
      ]
     },
     "execution_count": 43,
     "metadata": {},
     "output_type": "execute_result"
    }
   ],
   "source": [
    "spam"
   ]
  },
  {
   "cell_type": "code",
   "execution_count": 52,
   "id": "2321fd47",
   "metadata": {},
   "outputs": [],
   "source": [
    "spam.update({'i':\"zub\"})"
   ]
  },
  {
   "cell_type": "code",
   "execution_count": 53,
   "id": "8ec2aa0f",
   "metadata": {},
   "outputs": [
    {
     "data": {
      "text/plain": [
       "{'c': ['cat'], 'cat': 'value', 'color': 'black', 'i': 'zub'}"
      ]
     },
     "execution_count": 53,
     "metadata": {},
     "output_type": "execute_result"
    }
   ],
   "source": [
    "spam"
   ]
  },
  {
   "cell_type": "markdown",
   "id": "a42006b0",
   "metadata": {},
   "source": [
    "Using update method"
   ]
  },
  {
   "cell_type": "code",
   "execution_count": 56,
   "id": "aff0fe86",
   "metadata": {},
   "outputs": [],
   "source": [
    "## 8. How do you \"pretty print\" dictionary values using which module and function?"
   ]
  },
  {
   "cell_type": "markdown",
   "id": "5053ce89",
   "metadata": {},
   "source": [
    "By using .values()"
   ]
  },
  {
   "cell_type": "code",
   "execution_count": null,
   "id": "bf9f6367",
   "metadata": {},
   "outputs": [],
   "source": []
  }
 ],
 "metadata": {
  "kernelspec": {
   "display_name": "Python 3",
   "language": "python",
   "name": "python3"
  },
  "language_info": {
   "codemirror_mode": {
    "name": "ipython",
    "version": 3
   },
   "file_extension": ".py",
   "mimetype": "text/x-python",
   "name": "python",
   "nbconvert_exporter": "python",
   "pygments_lexer": "ipython3",
   "version": "3.8.8"
  }
 },
 "nbformat": 4,
 "nbformat_minor": 5
}
