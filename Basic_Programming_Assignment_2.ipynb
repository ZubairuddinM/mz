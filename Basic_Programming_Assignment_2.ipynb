{
 "cells": [
  {
   "cell_type": "code",
   "execution_count": 1,
   "id": "31004d70",
   "metadata": {},
   "outputs": [],
   "source": [
    "##1.\tWrite a Python program to convert kilometers to miles?\n",
    "##1 kilometre is equal to 0.62137119 miles, "
   ]
  },
  {
   "cell_type": "code",
   "execution_count": 6,
   "id": "c5f13fae",
   "metadata": {},
   "outputs": [
    {
     "name": "stdout",
     "output_type": "stream",
     "text": [
      "Enter value3\n",
      "1.8641135699999998\n"
     ]
    }
   ],
   "source": [
    "Kilometer=int(input(\"Enter value\"))\n",
    "print(Kilometer*0.62137119)"
   ]
  },
  {
   "cell_type": "code",
   "execution_count": null,
   "id": "3f7893d9",
   "metadata": {},
   "outputs": [],
   "source": [
    "##2.\tWrite a Python program to convert Celsius to Fahrenheit?\n",
    "(°C × 9/5) + 32 = °F"
   ]
  },
  {
   "cell_type": "code",
   "execution_count": 15,
   "id": "93ddd565",
   "metadata": {},
   "outputs": [
    {
     "name": "stdout",
     "output_type": "stream",
     "text": [
      "Enter value24\n",
      "75.0\n"
     ]
    }
   ],
   "source": [
    "Celsius=int(input(\"Enter value\"))\n",
    "print(float(Celsius*9//5)+32)"
   ]
  },
  {
   "cell_type": "code",
   "execution_count": null,
   "id": "a70ad5ef",
   "metadata": {},
   "outputs": [],
   "source": [
    "##3.\tWrite a Python program to display calendar?"
   ]
  },
  {
   "cell_type": "code",
   "execution_count": 5,
   "id": "bcc02594",
   "metadata": {},
   "outputs": [
    {
     "name": "stdout",
     "output_type": "stream",
     "text": [
      "Enter year :90\n",
      "Enter month :03\n",
      "      March 90\n",
      "Mo Tu We Th Fr Sa Su\n",
      "       1  2  3  4  5\n",
      " 6  7  8  9 10 11 12\n",
      "13 14 15 16 17 18 19\n",
      "20 21 22 23 24 25 26\n",
      "27 28 29 30 31\n",
      "\n"
     ]
    }
   ],
   "source": [
    "import calendar\n",
    "yy=int(input(\"Enter year :\"))\n",
    "mm=int(input(\"Enter month :\"))\n",
    "print(calendar.month(yy,mm))\n"
   ]
  },
  {
   "cell_type": "code",
   "execution_count": null,
   "id": "2a17d4eb",
   "metadata": {},
   "outputs": [],
   "source": [
    "##4.\tWrite a Python program to solve quadratic equation?"
   ]
  },
  {
   "cell_type": "markdown",
   "id": "4a92b18c",
   "metadata": {},
   "source": [
    "The quadratic equation in its standard form is ax2 + bx + c = 0, where a, b are the coefficients, x is the variable, and c is the constant term."
   ]
  },
  {
   "cell_type": "markdown",
   "id": "920021d0",
   "metadata": {},
   "source": [
    "(d) = b² – 4*a*c\n",
    "If d>0 then the roots are real and different\n",
    "root1 = (-b + √d)/2a\n",
    "root2 = (-b – √d)/2a\n",
    "\n",
    "If d=0 then both roots are -b/2a\n",
    "\n",
    "If d<0 then roots are complex and different\n",
    "root1 = -b/2a + i (√d/2a)\n",
    "root2 = -b/2a – i (√d/2a)\n",
    "\n"
   ]
  },
  {
   "cell_type": "code",
   "execution_count": 1,
   "id": "f63a0596",
   "metadata": {},
   "outputs": [],
   "source": [
    "import math"
   ]
  },
  {
   "cell_type": "code",
   "execution_count": 30,
   "id": "7b4b72de",
   "metadata": {},
   "outputs": [
    {
     "name": "stdout",
     "output_type": "stream",
     "text": [
      "Enter value of a:5\n",
      "Enter value of b:8\n",
      "Enter value of c:3\n",
      "d value is 16777156\n",
      "Two distinct real roots are 10219.981689436754 and -10259.981689436754\n"
     ]
    }
   ],
   "source": [
    "a=int(input(\"Enter value of a:\"))\n",
    "b=int(input('Enter value of b:'))\n",
    "c=int(input(\"Enter value of c:\"))\n",
    "b2=b**b\n",
    "d=b2-4*a*c\n",
    "print('d value is',d)\n",
    "\n",
    "if d>0:\n",
    "    root1=(-b+math.sqrt(d))/2*a\n",
    "    root2=(-b-math.sqrt(d))/2*a\n",
    "    print(\"Two distinct real roots are {} and {}\".format(root1, root2))\n",
    "elif d==0:\n",
    "    root1=root2=-b/2*a\n",
    "    print(\"Two equal and real roots are {} and {}\".format(root1,root2))\n",
    "elif d<0:\n",
    "    root1= (-b/2*a) + imaginary\n",
    "    root2= (-b/2*a) - imaginary\n",
    "    imaginary=math.sqrt(-d)/2*a\n",
    "    print(\"Two distinct complex roots are {}+{} and {}-{}\".format(root1,imaginary,root2,imaginary))\n"
   ]
  },
  {
   "cell_type": "code",
   "execution_count": null,
   "id": "be40b92f",
   "metadata": {},
   "outputs": [],
   "source": [
    "## 5.\tWrite a Python program to swap two variables without temp variable?"
   ]
  },
  {
   "cell_type": "code",
   "execution_count": 2,
   "id": "06b546d6",
   "metadata": {},
   "outputs": [
    {
     "name": "stdout",
     "output_type": "stream",
     "text": [
      "Initial value of a : 1\n",
      "Initial value of b : 2\n",
      "After swap,value of a : 2\n",
      "After swap,value of b : 1\n"
     ]
    }
   ],
   "source": [
    "a=1\n",
    "b=2\n",
    "print(\"Initial value of a :\",a)\n",
    "print(\"Initial value of b :\",b)\n",
    "a,b=b,a\n",
    "print(\"After swap,value of a :\",a)\n",
    "print(\"After swap,value of b :\",b)"
   ]
  },
  {
   "cell_type": "code",
   "execution_count": null,
   "id": "8f23b860",
   "metadata": {},
   "outputs": [],
   "source": []
  }
 ],
 "metadata": {
  "kernelspec": {
   "display_name": "Python 3",
   "language": "python",
   "name": "python3"
  },
  "language_info": {
   "codemirror_mode": {
    "name": "ipython",
    "version": 3
   },
   "file_extension": ".py",
   "mimetype": "text/x-python",
   "name": "python",
   "nbconvert_exporter": "python",
   "pygments_lexer": "ipython3",
   "version": "3.8.8"
  }
 },
 "nbformat": 4,
 "nbformat_minor": 5
}
